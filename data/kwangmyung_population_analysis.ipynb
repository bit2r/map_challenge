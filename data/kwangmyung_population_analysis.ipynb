# Save the current notebook session to a Jupyter notebook file using a different approach
notebook_path = "/mnt/data/kwangmyung_population_analysis.ipynb"

with open(notebook_path, 'w') as f:
    f.write(_ih[-1])

notebook_path